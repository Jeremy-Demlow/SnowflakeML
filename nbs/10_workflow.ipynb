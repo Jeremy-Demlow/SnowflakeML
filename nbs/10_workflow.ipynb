{
  "cells": [
    {
      "cell_type": "raw",
      "metadata": {
        "vscode": {
          "languageId": "raw"
        }
      },
      "source": [
        "# Customer Conversion ML Workflow\n",
        "\n",
        "> Main workflow notebook demonstrating the complete ML pipeline using modular components\n"
      ]
    },
    {
      "cell_type": "code",
      "execution_count": null,
      "metadata": {},
      "outputs": [],
      "source": [
        "# Import our modular components\n",
        "from SnowflakeML.data_processing import load_config, get_table_names, load_and_join_data, encode_categorical_features\n",
        "from SnowflakeML.ml_models import ModelPredictor, create_xgb_model\n",
        "from SnowflakeML.deployment import create_update_reviews_job\n",
        "\n",
        "from snowflake.snowpark.context import get_active_session\n",
        "from snowflake.ml.runtime_cluster import scale_cluster\n",
        "import ray\n",
        "import logging\n",
        "\n",
        "# Configure logging\n",
        "logging.getLogger().setLevel(logging.WARNING)\n"
      ]
    },
    {
      "cell_type": "raw",
      "metadata": {
        "vscode": {
          "languageId": "raw"
        }
      },
      "source": [
        "## Setup Environment and Configuration\n"
      ]
    },
    {
      "cell_type": "code",
      "execution_count": null,
      "metadata": {},
      "outputs": [],
      "source": [
        "# Create XGBoost model using configuration\n",
        "estimator = create_xgb_model(config)\n",
        "\n",
        "# Define features and target from config\n",
        "features = config['ml']['models']['purchase_prediction']['features']\n",
        "target = config['ml']['models']['purchase_prediction']['target']\n",
        "\n",
        "# Map feature names to encoded versions where needed\n",
        "INPUT_COLS = []\n",
        "for feature in features:\n",
        "    if feature in [\"REVIEW_QUALITY\", \"PRODUCT_LAYOUT\"]:\n",
        "        INPUT_COLS.append(f\"{feature}_OUT\")\n",
        "    else:\n",
        "        INPUT_COLS.append(feature)\n",
        "\n",
        "print(f\"Training with features: {INPUT_COLS}\")\n",
        "print(f\"Target: {target}\")\n",
        "\n",
        "# Train the model\n",
        "from snowflake.ml.data.data_connector import DataConnector\n",
        "dc = DataConnector.from_dataframe(train_dataframe)\n",
        "xgb_model = estimator.fit(dc, input_cols=INPUT_COLS, label_col=target)\n",
        "\n",
        "print(\"✓ Model training completed\")\n"
      ]
    },
    {
      "cell_type": "code",
      "execution_count": null,
      "metadata": {},
      "outputs": [],
      "source": [
        "# Create XGBoost model using configuration\n",
        "estimator = create_xgb_model(config)\n",
        "\n",
        "# Define features and target from config\n",
        "features = config['ml']['models']['purchase_prediction']['features']\n",
        "target = config['ml']['models']['purchase_prediction']['target']\n",
        "\n",
        "# Map feature names to encoded versions where needed\n",
        "INPUT_COLS = []\n",
        "for feature in features:\n",
        "    if feature in [\"REVIEW_QUALITY\", \"PRODUCT_LAYOUT\"]:\n",
        "        INPUT_COLS.append(f\"{feature}_OUT\")\n",
        "    else:\n",
        "        INPUT_COLS.append(feature)\n",
        "\n",
        "print(f\"Training with features: {INPUT_COLS}\")\n",
        "print(f\"Target: {target}\")\n",
        "\n",
        "# Train the model\n",
        "from snowflake.ml.data.data_connector import DataConnector\n",
        "dc = DataConnector.from_dataframe(train_dataframe)\n",
        "xgb_model = estimator.fit(dc, input_cols=INPUT_COLS, label_col=target)\n",
        "\n",
        "print(\"✓ Model training completed\")\n"
      ]
    },
    {
      "cell_type": "code",
      "execution_count": null,
      "metadata": {},
      "outputs": [],
      "source": [
        "# Create XGBoost model using configuration\n",
        "estimator = create_xgb_model(config)\n",
        "\n",
        "# Define features and target from config\n",
        "features = config['ml']['models']['purchase_prediction']['features']\n",
        "target = config['ml']['models']['purchase_prediction']['target']\n",
        "\n",
        "# Map feature names to encoded versions where needed\n",
        "INPUT_COLS = []\n",
        "for feature in features:\n",
        "    if feature in [\"REVIEW_QUALITY\", \"PRODUCT_LAYOUT\"]:\n",
        "        INPUT_COLS.append(f\"{feature}_OUT\")\n",
        "    else:\n",
        "        INPUT_COLS.append(feature)\n",
        "\n",
        "print(f\"Training with features: {INPUT_COLS}\")\n",
        "print(f\"Target: {target}\")\n",
        "\n",
        "# Train the model\n",
        "from snowflake.ml.data.data_connector import DataConnector\n",
        "dc = DataConnector.from_dataframe(train_dataframe)\n",
        "xgb_model = estimator.fit(dc, input_cols=INPUT_COLS, label_col=target)\n",
        "\n",
        "print(\"✓ Model training completed\")\n"
      ]
    },
    {
      "cell_type": "code",
      "execution_count": null,
      "metadata": {},
      "outputs": [],
      "source": [
        "# Create XGBoost model using configuration\n",
        "estimator = create_xgb_model(config)\n",
        "\n",
        "# Define features and target from config\n",
        "features = config['ml']['models']['purchase_prediction']['features']\n",
        "target = config['ml']['models']['purchase_prediction']['target']\n",
        "\n",
        "# Map feature names to encoded versions where needed\n",
        "INPUT_COLS = []\n",
        "for feature in features:\n",
        "    if feature in [\"REVIEW_QUALITY\", \"PRODUCT_LAYOUT\"]:\n",
        "        INPUT_COLS.append(f\"{feature}_OUT\")\n",
        "    else:\n",
        "        INPUT_COLS.append(feature)\n",
        "\n",
        "print(f\"Training with features: {INPUT_COLS}\")\n",
        "print(f\"Target: {target}\")\n",
        "\n",
        "# Train the model\n",
        "from snowflake.ml.data.data_connector import DataConnector\n",
        "dc = DataConnector.from_dataframe(train_dataframe)\n",
        "xgb_model = estimator.fit(dc, input_cols=INPUT_COLS, label_col=target)\n",
        "\n",
        "print(\"✓ Model training completed\")\n"
      ]
    },
    {
      "cell_type": "code",
      "execution_count": null,
      "metadata": {},
      "outputs": [],
      "source": [
        "# Create XGBoost model using configuration\n",
        "estimator = create_xgb_model(config)\n",
        "\n",
        "# Define features and target from config\n",
        "features = config['ml']['models']['purchase_prediction']['features']\n",
        "target = config['ml']['models']['purchase_prediction']['target']\n",
        "\n",
        "# Map feature names to encoded versions where needed\n",
        "INPUT_COLS = []\n",
        "for feature in features:\n",
        "    if feature in [\"REVIEW_QUALITY\", \"PRODUCT_LAYOUT\"]:\n",
        "        INPUT_COLS.append(f\"{feature}_OUT\")\n",
        "    else:\n",
        "        INPUT_COLS.append(feature)\n",
        "\n",
        "print(f\"Training with features: {INPUT_COLS}\")\n",
        "print(f\"Target: {target}\")\n",
        "\n",
        "# Train the model\n",
        "from snowflake.ml.data.data_connector import DataConnector\n",
        "dc = DataConnector.from_dataframe(train_dataframe)\n",
        "xgb_model = estimator.fit(dc, input_cols=INPUT_COLS, label_col=target)\n",
        "\n",
        "print(\"✓ Model training completed\")\n"
      ]
    },
    {
      "cell_type": "code",
      "execution_count": null,
      "metadata": {},
      "outputs": [],
      "source": [
        "# Load configuration and setup session\n",
        "config = load_config('../config.yaml')\n",
        "session = get_active_session()\n",
        "table_names = get_table_names(config)\n",
        "\n",
        "print(f\"Using tables: {table_names}\")\n",
        "\n",
        "# Scale cluster for distributed processing\n",
        "SCALE_FACTOR = config['ml']['ray']['scale_factor']\n",
        "scale_cluster(SCALE_FACTOR)\n"
      ]
    },
    {
      "cell_type": "raw",
      "metadata": {
        "vscode": {
          "languageId": "raw"
        }
      },
      "source": [
        "## Data Preparation\n"
      ]
    },
    {
      "cell_type": "code",
      "execution_count": null,
      "metadata": {},
      "outputs": [],
      "source": [
        "# Load and join data using our modular functions\n",
        "train_dataframe = load_and_join_data(session, table_names)\n",
        "print(f\"Loaded {train_dataframe.count()} rows\")\n",
        "\n",
        "# Encode categorical features\n",
        "train_dataframe = encode_categorical_features(train_dataframe)\n",
        "print(\"✓ Categorical features encoded\")\n"
      ]
    },
    {
      "cell_type": "raw",
      "metadata": {
        "vscode": {
          "languageId": "raw"
        }
      },
      "source": [
        "## Model Training\n"
      ]
    },
    {
      "cell_type": "code",
      "execution_count": null,
      "metadata": {},
      "outputs": [],
      "source": [
        "# Create XGBoost model using configuration\n",
        "estimator = create_xgb_model(config)\n",
        "\n",
        "# Define features and target from config\n",
        "features = config['ml']['models']['purchase_prediction']['features']\n",
        "target = config['ml']['models']['purchase_prediction']['target']\n",
        "\n",
        "# Map feature names to encoded versions where needed\n",
        "INPUT_COLS = []\n",
        "for feature in features:\n",
        "    if feature in [\"REVIEW_QUALITY\", \"PRODUCT_LAYOUT\"]:\n",
        "        INPUT_COLS.append(f\"{feature}_OUT\")\n",
        "    else:\n",
        "        INPUT_COLS.append(feature)\n",
        "\n",
        "print(f\"Training with features: {INPUT_COLS}\")\n",
        "print(f\"Target: {target}\")\n",
        "\n",
        "# Train the model\n",
        "from snowflake.ml.data.data_connector import DataConnector\n",
        "dc = DataConnector.from_dataframe(train_dataframe)\n",
        "xgb_model = estimator.fit(dc, input_cols=INPUT_COLS, label_col=target)\n",
        "\n",
        "print(\"✓ Model training completed\")\n"
      ]
    }
  ],
  "metadata": {
    "language_info": {
      "name": "python"
    }
  },
  "nbformat": 4,
  "nbformat_minor": 2
}
