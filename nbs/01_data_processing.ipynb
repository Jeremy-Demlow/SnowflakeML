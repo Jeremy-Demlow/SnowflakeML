{
  "cells": [
    {
      "cell_type": "raw",
      "metadata": {
        "vscode": {
          "languageId": "raw"
        }
      },
      "source": [
        "# Data Processing\n",
        "\n",
        "> Functions for processing customer review data and preparing it for ML training\n"
      ]
    },
    {
      "cell_type": "code",
      "execution_count": 2,
      "metadata": {},
      "outputs": [],
      "source": [
        "#| default_exp data_processing\n"
      ]
    },
    {
      "cell_type": "code",
      "execution_count": 3,
      "metadata": {},
      "outputs": [],
      "source": [
        "#| export\n",
        "import pandas as pd\n",
        "import numpy as np\n",
        "from typing import Dict, Any, List\n",
        "from snowflake.snowpark import Session\n",
        "from snowflake.snowpark.dataframe import DataFrame\n",
        "import yaml\n"
      ]
    },
    {
      "cell_type": "code",
      "execution_count": 5,
      "metadata": {},
      "outputs": [],
      "source": [
        "#| export\n",
        "def parse_reviews(batch: Dict[str, Any]) -> Dict[str, Any]:\n",
        "    \"\"\"Parse reviews to extract UUID and review text from the input string.\n",
        "    \n",
        "    Args:\n",
        "        batch: Dictionary containing 'text' and 'file_name' keys\n",
        "        \n",
        "    Returns:\n",
        "        Dictionary with parsed UUID and review text\n",
        "    \"\"\"\n",
        "    # Initialize empty dictionary for results\n",
        "    parsed_data = {}\n",
        "    \n",
        "    value = batch[\"text\"]\n",
        "    # Split on the first occurrence of comma\n",
        "    parts = value.split('\",\"', 1)\n",
        "    \n",
        "    # Clean up the UUID (remove leading/trailing quotes)\n",
        "    uuid = parts[0].strip('\"')\n",
        "    \n",
        "    # Clean up the review text (remove trailing quote)\n",
        "    review_text = parts[1].rstrip('\"')\n",
        "    \n",
        "    # Store parsed values\n",
        "    parsed_data['UUID'] = uuid\n",
        "    parsed_data['REVIEW_TEXT'] = review_text\n",
        "        \n",
        "    return parsed_data\n"
      ]
    },
    {
      "cell_type": "code",
      "execution_count": 6,
      "metadata": {},
      "outputs": [
        {
          "name": "stdout",
          "output_type": "stream",
          "text": [
            "✓ parse_reviews test passed\n"
          ]
        }
      ],
      "source": [
        "# Test parse_reviews function\n",
        "test_batch = {\"text\": '\"uuid123\",\"This is a great product review!\"'}\n",
        "result = parse_reviews(test_batch)\n",
        "assert result['UUID'] == 'uuid123'\n",
        "assert result['REVIEW_TEXT'] == 'This is a great product review!'\n",
        "print(\"✓ parse_reviews test passed\")\n"
      ]
    }
  ],
  "metadata": {
    "kernelspec": {
      "display_name": "sfml",
      "language": "python",
      "name": "python3"
    },
    "language_info": {
      "codemirror_mode": {
        "name": "ipython",
        "version": 3
      },
      "file_extension": ".py",
      "mimetype": "text/x-python",
      "name": "python",
      "nbconvert_exporter": "python",
      "pygments_lexer": "ipython3",
      "version": "3.11.11"
    }
  },
  "nbformat": 4,
  "nbformat_minor": 2
}
