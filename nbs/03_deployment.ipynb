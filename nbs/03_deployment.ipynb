{
  "cells": [
    {
      "cell_type": "raw",
      "metadata": {
        "vscode": {
          "languageId": "raw"
        }
      },
      "source": [
        "# Deployment & Jobs\n",
        "\n",
        "> Functions for deploying models and creating Snowflake ML jobs\n"
      ]
    },
    {
      "cell_type": "code",
      "execution_count": null,
      "metadata": {},
      "outputs": [],
      "source": [
        "#| default_exp deployment\n"
      ]
    },
    {
      "cell_type": "code",
      "execution_count": 1,
      "metadata": {},
      "outputs": [
        {
          "ename": "ModuleNotFoundError",
          "evalue": "No module named 'snowflake.ml.ray'",
          "output_type": "error",
          "traceback": [
            "\u001b[31m---------------------------------------------------------------------------\u001b[39m",
            "\u001b[31mModuleNotFoundError\u001b[39m                       Traceback (most recent call last)",
            "\u001b[36mCell\u001b[39m\u001b[36m \u001b[39m\u001b[32mIn[1]\u001b[39m\u001b[32m, line 7\u001b[39m\n\u001b[32m      5\u001b[39m \u001b[38;5;28;01mfrom\u001b[39;00m\u001b[38;5;250m \u001b[39m\u001b[34;01msnowflake\u001b[39;00m\u001b[34;01m.\u001b[39;00m\u001b[34;01mml\u001b[39;00m\u001b[34;01m.\u001b[39;00m\u001b[34;01mregistry\u001b[39;00m\u001b[38;5;250m \u001b[39m\u001b[38;5;28;01mimport\u001b[39;00m registry\n\u001b[32m      6\u001b[39m \u001b[38;5;28;01mfrom\u001b[39;00m\u001b[38;5;250m \u001b[39m\u001b[34;01msnowflake\u001b[39;00m\u001b[34;01m.\u001b[39;00m\u001b[34;01msnowpark\u001b[39;00m\u001b[38;5;250m \u001b[39m\u001b[38;5;28;01mimport\u001b[39;00m Session\n\u001b[32m----> \u001b[39m\u001b[32m7\u001b[39m \u001b[38;5;28;01mfrom\u001b[39;00m\u001b[38;5;250m \u001b[39m\u001b[34;01msnowflake\u001b[39;00m\u001b[34;01m.\u001b[39;00m\u001b[34;01mml\u001b[39;00m\u001b[34;01m.\u001b[39;00m\u001b[34;01mray\u001b[39;00m\u001b[34;01m.\u001b[39;00m\u001b[34;01mdatasink\u001b[39;00m\u001b[34;01m.\u001b[39;00m\u001b[34;01mtable_data_sink\u001b[39;00m\u001b[38;5;250m \u001b[39m\u001b[38;5;28;01mimport\u001b[39;00m SnowflakeTableDatasink\n\u001b[32m      8\u001b[39m \u001b[38;5;28;01mfrom\u001b[39;00m\u001b[38;5;250m \u001b[39m\u001b[34;01msnowflake\u001b[39;00m\u001b[34;01m.\u001b[39;00m\u001b[34;01mml\u001b[39;00m\u001b[34;01m.\u001b[39;00m\u001b[34;01mray\u001b[39;00m\u001b[34;01m.\u001b[39;00m\u001b[34;01mdatasource\u001b[39;00m\u001b[38;5;250m \u001b[39m\u001b[38;5;28;01mimport\u001b[39;00m SFStageTextDataSource\n\u001b[32m      9\u001b[39m \u001b[38;5;28;01mimport\u001b[39;00m\u001b[38;5;250m \u001b[39m\u001b[34;01mray\u001b[39;00m\n",
            "\u001b[31mModuleNotFoundError\u001b[39m: No module named 'snowflake.ml.ray'"
          ]
        }
      ],
      "source": [
        "#| export\n",
        "import datetime\n",
        "from typing import Dict, Any, List\n",
        "from snowflake.ml.jobs import remote\n",
        "from snowflake.ml.registry import registry\n",
        "from snowflake.snowpark import Session\n",
        "from snowflake.ml.ray.datasink.table_data_sink import SnowflakeTableDatasink\n",
        "from snowflake.ml.ray.datasource import SFStageTextDataSource\n",
        "import ray\n"
      ]
    },
    {
      "cell_type": "code",
      "execution_count": 2,
      "metadata": {},
      "outputs": [],
      "source": [
        "#| export  \n",
        "def create_update_reviews_job(\n",
        "        compute_pool: str = \"HOL_COMPUTE_POOL_HIGHMEM\",\n",
        "        stage_name: str = \"payload_stage\",\n",
        "        integration: str = \"ALLOW_ALL_ACCESS_INTEGRATION\"\n",
        "    ):\n",
        "    \"\"\"Create a remote job for updating reviews with quality predictions.\n",
        "    \n",
        "    Args:\n",
        "        compute_pool: Name of the compute pool to use\n",
        "        stage_name: Name of the stage for job artifacts\n",
        "        integration: Name of the external access integration\n",
        "        \n",
        "    Returns:\n",
        "        Decorated function for remote execution\n",
        "    \"\"\"\n",
        "    @remote(compute_pool=compute_pool, \n",
        "            stage_name=stage_name, \n",
        "            external_access_integrations=[integration])\n",
        "    def update_reviews():\n",
        "        # Import inside function for remote execution\n",
        "        from SnowflakeML.data_processing import parse_reviews\n",
        "        from SnowflakeML.ml_models import ModelPredictor\n",
        "        \n",
        "        file_name = \"*.txt\"\n",
        "        reviews_stage = \"REVIEWS\"\n",
        "        \n",
        "        text_source = SFStageTextDataSource(\n",
        "            stage_location=reviews_stage,\n",
        "            file_pattern=file_name\n",
        "        )\n",
        "        \n",
        "        text_dataset = ray.data.read_datasource(text_source)\n",
        "        parsed_dataset = text_dataset.map(parse_reviews)\n",
        "        dataset = parsed_dataset.map_batches(\n",
        "            ModelPredictor, \n",
        "            concurrency=1, \n",
        "            batch_size=10, \n",
        "            num_cpus=24\n",
        "        )\n",
        "\n",
        "        datasink = SnowflakeTableDatasink(\n",
        "            table_name=\"REVIEWS\",\n",
        "            auto_create_table=True,\n",
        "            override=False,\n",
        "        )\n",
        "        dataset.write_datasink(datasink)\n",
        "    \n",
        "    return update_reviews\n"
      ]
    },
    {
      "cell_type": "code",
      "execution_count": 3,
      "metadata": {},
      "outputs": [],
      "source": [
        "#| hide\n",
        "import nbdev; nbdev.nbdev_export()"
      ]
    },
    {
      "cell_type": "code",
      "execution_count": null,
      "metadata": {},
      "outputs": [],
      "source": []
    }
  ],
  "metadata": {
    "kernelspec": {
      "display_name": "sfml",
      "language": "python",
      "name": "python3"
    },
    "language_info": {
      "codemirror_mode": {
        "name": "ipython",
        "version": 3
      },
      "file_extension": ".py",
      "mimetype": "text/x-python",
      "name": "python",
      "nbconvert_exporter": "python",
      "pygments_lexer": "ipython3",
      "version": "3.11.11"
    }
  },
  "nbformat": 4,
  "nbformat_minor": 2
}
